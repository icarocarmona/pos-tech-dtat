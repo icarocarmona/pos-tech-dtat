{
  "nbformat": 4,
  "nbformat_minor": 0,
  "metadata": {
    "colab": {
      "provenance": [],
      "authorship_tag": "ABX9TyMwb4kJoxq/hq1PqgILGkoW",
      "include_colab_link": true
    },
    "kernelspec": {
      "name": "python3",
      "display_name": "Python 3"
    },
    "language_info": {
      "name": "python"
    }
  },
  "cells": [
    {
      "cell_type": "markdown",
      "metadata": {
        "id": "view-in-github",
        "colab_type": "text"
      },
      "source": [
        "<a href=\"https://colab.research.google.com/github/icarocarmona/pos-tech-dtat/blob/main/f3_big_data/ALS_RecSys.ipynb\" target=\"_parent\"><img src=\"https://colab.research.google.com/assets/colab-badge.svg\" alt=\"Open In Colab\"/></a>"
      ]
    },
    {
      "cell_type": "markdown",
      "source": [
        "# Configurando bibliotecas e dependencias"
      ],
      "metadata": {
        "id": "wNhbyJJCxk_b"
      }
    },
    {
      "cell_type": "code",
      "execution_count": null,
      "metadata": {
        "id": "GsjVQYsjxRAB"
      },
      "outputs": [],
      "source": [
        "!pip install pyspark"
      ]
    },
    {
      "cell_type": "code",
      "source": [
        "!pip install findspark"
      ],
      "metadata": {
        "id": "xA0ZfYvUxgiv"
      },
      "execution_count": null,
      "outputs": []
    },
    {
      "cell_type": "code",
      "source": [
        "from pyspark.sql import SparkSession\n",
        "from pyspark.ml.evaluation import RegressionEvaluator\n",
        "from pyspark.ml.recommendation import ALS\n",
        "from pyspark.sql import Row"
      ],
      "metadata": {
        "id": "2TPkxdb2xtJk"
      },
      "execution_count": 3,
      "outputs": []
    },
    {
      "cell_type": "code",
      "source": [
        "spark = SparkSession.builder.master('local[*]').getOrCreate()"
      ],
      "metadata": {
        "id": "bwdrNWg6yPQT"
      },
      "execution_count": 5,
      "outputs": []
    },
    {
      "cell_type": "code",
      "source": [
        "lines = spark.read.text(\"/content/sample_movielens_ratings.txt\").rdd"
      ],
      "metadata": {
        "id": "Y-xIhVPaytpE"
      },
      "execution_count": 9,
      "outputs": []
    },
    {
      "cell_type": "code",
      "source": [
        "parts = lines.map(lambda row: row.value.split(\"::\"))"
      ],
      "metadata": {
        "id": "kVL7xVoHzjap"
      },
      "execution_count": 10,
      "outputs": []
    },
    {
      "cell_type": "code",
      "source": [
        "ratingRDD = parts.map(lambda p: Row(\n",
        "        userId=int(p[0]),\n",
        "        movieId=int(p[1]),\n",
        "        rating=float(p[2]),\n",
        "        timestamp=int(p[3])\n",
        "))"
      ],
      "metadata": {
        "id": "hIFpfXpOzvLN"
      },
      "execution_count": 14,
      "outputs": []
    },
    {
      "cell_type": "code",
      "source": [
        "rating = spark.createDataFrame(ratingRDD)"
      ],
      "metadata": {
        "id": "sWwZgaV80RjS"
      },
      "execution_count": 15,
      "outputs": []
    },
    {
      "cell_type": "code",
      "source": [
        "rating.show()"
      ],
      "metadata": {
        "colab": {
          "base_uri": "https://localhost:8080/"
        },
        "id": "d1VFXc9J0oYR",
        "outputId": "8841eaab-568f-4b7a-9c31-462e87d20bc2"
      },
      "execution_count": 16,
      "outputs": [
        {
          "output_type": "stream",
          "name": "stdout",
          "text": [
            "+------+-------+------+----------+\n",
            "|userId|movieId|rating| timestamp|\n",
            "+------+-------+------+----------+\n",
            "|     0|      2|   3.0|1424380312|\n",
            "|     0|      3|   1.0|1424380312|\n",
            "|     0|      5|   2.0|1424380312|\n",
            "|     0|      9|   4.0|1424380312|\n",
            "|     0|     11|   1.0|1424380312|\n",
            "|     0|     12|   2.0|1424380312|\n",
            "|     0|     15|   1.0|1424380312|\n",
            "|     0|     17|   1.0|1424380312|\n",
            "|     0|     19|   1.0|1424380312|\n",
            "|     0|     21|   1.0|1424380312|\n",
            "|     0|     23|   1.0|1424380312|\n",
            "|     0|     26|   3.0|1424380312|\n",
            "|     0|     27|   1.0|1424380312|\n",
            "|     0|     28|   1.0|1424380312|\n",
            "|     0|     29|   1.0|1424380312|\n",
            "|     0|     30|   1.0|1424380312|\n",
            "|     0|     31|   1.0|1424380312|\n",
            "|     0|     34|   1.0|1424380312|\n",
            "|     0|     37|   1.0|1424380312|\n",
            "|     0|     41|   2.0|1424380312|\n",
            "+------+-------+------+----------+\n",
            "only showing top 20 rows\n",
            "\n"
          ]
        }
      ]
    },
    {
      "cell_type": "code",
      "source": [
        "(training, test) = rating.randomSplit([0.8, 0.2])"
      ],
      "metadata": {
        "id": "pLlMrmq-0rpM"
      },
      "execution_count": 19,
      "outputs": []
    },
    {
      "cell_type": "code",
      "source": [
        "als = ALS(\n",
        "    maxIter=5,\n",
        "    regParam=0.01,\n",
        "    userCol=\"userId\",\n",
        "    itemCol=\"movieId\",\n",
        "    ratingCol=\"rating\",\n",
        "    coldStartStrategy=\"drop\"\n",
        ")"
      ],
      "metadata": {
        "id": "yba7PXoN2u50"
      },
      "execution_count": 20,
      "outputs": []
    },
    {
      "cell_type": "code",
      "source": [
        "model = als.fit(training)"
      ],
      "metadata": {
        "id": "zHkbxPhI3ETn"
      },
      "execution_count": 21,
      "outputs": []
    },
    {
      "cell_type": "code",
      "source": [
        "predictions = model.transform(test)"
      ],
      "metadata": {
        "id": "-IBbBkEg3KvI"
      },
      "execution_count": 22,
      "outputs": []
    },
    {
      "cell_type": "code",
      "source": [
        "evaluator = RegressionEvaluator(metricName=\"rmse\", labelCol=\"rating\", predictionCol=\"prediction\")\n",
        "\n",
        "rmse = evaluator.evaluate(predictions)\n",
        "\n",
        "print(\"Erro médio quadrático = \" + str(rmse))"
      ],
      "metadata": {
        "colab": {
          "base_uri": "https://localhost:8080/"
        },
        "id": "YTKCvugs3YOq",
        "outputId": "0194edfb-fee0-4700-f5f4-8b48196b7833"
      },
      "execution_count": 23,
      "outputs": [
        {
          "output_type": "stream",
          "name": "stdout",
          "text": [
            "Erro médio quadrático = 1.7024024462585714\n"
          ]
        }
      ]
    },
    {
      "cell_type": "code",
      "source": [
        "userRec = model.recommendForAllUsers(10)"
      ],
      "metadata": {
        "id": "Zn3Gefhf3rge"
      },
      "execution_count": 24,
      "outputs": []
    },
    {
      "cell_type": "code",
      "source": [
        "userRec.show()"
      ],
      "metadata": {
        "colab": {
          "base_uri": "https://localhost:8080/"
        },
        "id": "G8vQmKPS4-6Q",
        "outputId": "65503cd5-37eb-486b-855b-cb58892e0cad"
      },
      "execution_count": 25,
      "outputs": [
        {
          "output_type": "stream",
          "name": "stdout",
          "text": [
            "+------+--------------------+\n",
            "|userId|     recommendations|\n",
            "+------+--------------------+\n",
            "|    20|[{22, 4.633335}, ...|\n",
            "|    10|[{46, 4.3338404},...|\n",
            "|     0|[{90, 5.8650727},...|\n",
            "|     1|[{29, 4.867915}, ...|\n",
            "|    21|[{29, 5.1724653},...|\n",
            "|    11|[{32, 5.757972}, ...|\n",
            "|    12|[{46, 5.9621487},...|\n",
            "|    22|[{4, 6.0828013}, ...|\n",
            "|     2|[{8, 5.035456}, {...|\n",
            "|    13|[{52, 3.4599023},...|\n",
            "|     3|[{75, 5.966167}, ...|\n",
            "|    23|[{27, 5.1779575},...|\n",
            "|     4|[{53, 4.4732}, {5...|\n",
            "|    24|[{52, 5.023619}, ...|\n",
            "|    14|[{52, 5.4232106},...|\n",
            "|     5|[{53, 5.9689717},...|\n",
            "|    15|[{46, 4.7341228},...|\n",
            "|    25|[{28, 4.375128}, ...|\n",
            "|    26|[{32, 6.2474246},...|\n",
            "|     6|[{25, 4.765902}, ...|\n",
            "+------+--------------------+\n",
            "only showing top 20 rows\n",
            "\n"
          ]
        }
      ]
    },
    {
      "cell_type": "code",
      "source": [
        "movieRecs = model.recommendForAllItems(10)"
      ],
      "metadata": {
        "id": "trQaQLfV5ACV"
      },
      "execution_count": 26,
      "outputs": []
    },
    {
      "cell_type": "code",
      "source": [
        "movieRecs.show()"
      ],
      "metadata": {
        "colab": {
          "base_uri": "https://localhost:8080/"
        },
        "id": "UFSh93Te5MSU",
        "outputId": "18cc9b82-1522-4f78-c34d-4a907ec2d419"
      },
      "execution_count": 27,
      "outputs": [
        {
          "output_type": "stream",
          "name": "stdout",
          "text": [
            "+-------+--------------------+\n",
            "|movieId|     recommendations|\n",
            "+-------+--------------------+\n",
            "|     20|[{5, 2.918556}, {...|\n",
            "|     40|[{2, 3.8685434}, ...|\n",
            "|     10|[{0, 2.7656345}, ...|\n",
            "|     50|[{11, 4.548509}, ...|\n",
            "|     80|[{3, 3.6778986}, ...|\n",
            "|     70|[{4, 3.845504}, {...|\n",
            "|     60|[{22, 3.3446133},...|\n",
            "|     90|[{17, 5.90263}, {...|\n",
            "|     30|[{26, 5.83772}, {...|\n",
            "|      0|[{28, 2.9130337},...|\n",
            "|     31|[{12, 3.8364975},...|\n",
            "|     81|[{23, 4.2194037},...|\n",
            "|     91|[{23, 4.0537505},...|\n",
            "|      1|[{12, 4.3187284},...|\n",
            "|     41|[{5, 4.6398935}, ...|\n",
            "|     61|[{16, 3.2701192},...|\n",
            "|     51|[{3, 5.086837}, {...|\n",
            "|     21|[{22, 3.0220068},...|\n",
            "|     11|[{18, 3.9367208},...|\n",
            "|     71|[{25, 3.7561786},...|\n",
            "+-------+--------------------+\n",
            "only showing top 20 rows\n",
            "\n"
          ]
        }
      ]
    },
    {
      "cell_type": "code",
      "source": [
        "users = rating.select(als.getUserCol()).distinct()"
      ],
      "metadata": {
        "id": "z8Nrp7mu5OPv"
      },
      "execution_count": 28,
      "outputs": []
    },
    {
      "cell_type": "code",
      "source": [
        "users.show()"
      ],
      "metadata": {
        "colab": {
          "base_uri": "https://localhost:8080/"
        },
        "id": "XwIghX3Z5euq",
        "outputId": "17784e5d-acb3-49a1-e7e9-148621127780"
      },
      "execution_count": 30,
      "outputs": [
        {
          "output_type": "stream",
          "name": "stdout",
          "text": [
            "+------+\n",
            "|userId|\n",
            "+------+\n",
            "|    26|\n",
            "|    29|\n",
            "|    19|\n",
            "|     0|\n",
            "|    22|\n",
            "|     7|\n",
            "|    25|\n",
            "|     6|\n",
            "|     9|\n",
            "|    27|\n",
            "|    17|\n",
            "|    28|\n",
            "|     5|\n",
            "|     1|\n",
            "|    10|\n",
            "|     3|\n",
            "|    12|\n",
            "|     8|\n",
            "|    11|\n",
            "|     2|\n",
            "+------+\n",
            "only showing top 20 rows\n",
            "\n"
          ]
        }
      ]
    },
    {
      "cell_type": "code",
      "source": [
        "UserRecsOnlyItemId = userRec.select(userRec['userId'], userRec['recommendations']['movieId'])"
      ],
      "metadata": {
        "id": "MxQ6h47C5fzO"
      },
      "execution_count": 31,
      "outputs": []
    },
    {
      "cell_type": "code",
      "source": [
        "UserRecsOnlyItemId.show(10, False)"
      ],
      "metadata": {
        "colab": {
          "base_uri": "https://localhost:8080/"
        },
        "id": "HoAWpOby6Bjb",
        "outputId": "4c670af8-518b-425a-b656-d9b72769dcff"
      },
      "execution_count": 33,
      "outputs": [
        {
          "output_type": "stream",
          "name": "stdout",
          "text": [
            "+------+----------------------------------------+\n",
            "|userId|recommendations.movieId                 |\n",
            "+------+----------------------------------------+\n",
            "|20    |[22, 75, 77, 98, 94, 51, 29, 90, 53, 88]|\n",
            "|10    |[46, 23, 42, 90, 89, 49, 4, 55, 95, 26] |\n",
            "|0     |[90, 92, 94, 58, 9, 63, 54, 68, 70, 2]  |\n",
            "|1     |[29, 75, 53, 22, 62, 51, 69, 98, 24, 28]|\n",
            "|21    |[29, 53, 52, 62, 87, 63, 74, 70, 2, 72] |\n",
            "|11    |[32, 30, 65, 44, 27, 69, 18, 23, 50, 7] |\n",
            "|12    |[46, 64, 17, 1, 16, 94, 31, 26, 42, 95] |\n",
            "|22    |[4, 22, 75, 30, 51, 88, 77, 76, 52, 98] |\n",
            "|2     |[8, 93, 39, 83, 37, 92, 19, 34, 40, 2]  |\n",
            "|13    |[52, 87, 74, 32, 29, 53, 2, 70, 18, 83] |\n",
            "+------+----------------------------------------+\n",
            "only showing top 10 rows\n",
            "\n"
          ]
        }
      ]
    }
  ]
}