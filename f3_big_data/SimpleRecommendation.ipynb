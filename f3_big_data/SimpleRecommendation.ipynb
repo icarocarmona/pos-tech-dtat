{
  "nbformat": 4,
  "nbformat_minor": 0,
  "metadata": {
    "colab": {
      "provenance": [],
      "authorship_tag": "ABX9TyNP4wI3ULH6o/T38fSgeDCh",
      "include_colab_link": true
    },
    "kernelspec": {
      "name": "python3",
      "display_name": "Python 3"
    },
    "language_info": {
      "name": "python"
    }
  },
  "cells": [
    {
      "cell_type": "markdown",
      "metadata": {
        "id": "view-in-github",
        "colab_type": "text"
      },
      "source": [
        "<a href=\"https://colab.research.google.com/github/icarocarmona/pos-tech-dtat/blob/main/f3_big_data/SimpleRecommendation.ipynb\" target=\"_parent\"><img src=\"https://colab.research.google.com/assets/colab-badge.svg\" alt=\"Open In Colab\"/></a>"
      ]
    },
    {
      "cell_type": "code",
      "execution_count": null,
      "metadata": {
        "id": "EKZpG__3psjh"
      },
      "outputs": [],
      "source": [
        "import scipy\n",
        "from scipy import stats\n",
        "import numpy as np"
      ]
    },
    {
      "cell_type": "code",
      "source": [
        "matrix = np.array([[8,0,3,4,6],[5,6,1,8,9],[8,0,0,5,10]])\n",
        "newUser = [8,0,2,3,0]\n",
        "unattended = [0,1,0,0,1]\n",
        "print(matrix)\n",
        "movies_name = ['Round 6', 'A Invocação do Mal', '9 Desconhecidos', 'You', 'La Casa de Papel']"
      ],
      "metadata": {
        "colab": {
          "base_uri": "https://localhost:8080/"
        },
        "id": "Zsj5eN7Op-k7",
        "outputId": "59415bd0-7737-4ddc-a571-1b5199fc9af1"
      },
      "execution_count": null,
      "outputs": [
        {
          "output_type": "stream",
          "name": "stdout",
          "text": [
            "[[ 8  0  3  4  6]\n",
            " [ 5  6  1  8  9]\n",
            " [ 8  0  0  5 10]]\n"
          ]
        }
      ]
    },
    {
      "cell_type": "code",
      "source": [
        "similarity = [0]* 3\n",
        "print(matrix[0][0])\n",
        "print(matrix[1][0])\n",
        "print(matrix[1,:])\n",
        "# para cada usuário do sistema..\n",
        "for i in range(0,3):\n",
        "  #vamor pegar os dados desse usuário\n",
        "  temp = matrix[i,:]\n",
        "  print (i, temp)\n",
        "  # mas queremos apenas comparar os dados que o novo usuario assistiu (ou seja.. newUser != 0)\n",
        "  tempUser = [t for n, t in zip(newUser, temp) if n != 0]\n",
        "  tempNewUser = [ n for n in newUser if n!= 0]\n",
        "\n",
        "  #para verificar o processo\n",
        "  print('user:', i )\n",
        "  print(temp, tempNewUser)\n",
        "\n",
        "  # vamos usar a biblioteca scipy.stats que ja calcula a pearson!!\n",
        "  similarity[i] = scipy.stats.pearsonr(tempUser, tempNewUser)[0]\n",
        "print()\n",
        "\n",
        "print(similarity)"
      ],
      "metadata": {
        "colab": {
          "base_uri": "https://localhost:8080/"
        },
        "id": "wJPEkZkJuiSj",
        "outputId": "9236f6db-95d3-4c33-caba-d90f95e090c3"
      },
      "execution_count": null,
      "outputs": [
        {
          "output_type": "stream",
          "name": "stdout",
          "text": [
            "8\n",
            "5\n",
            "[5 6 1 8 9]\n",
            "0 [8 0 3 4 6]\n",
            "user: 0\n",
            "[8 0 3 4 6] [8, 2, 3]\n",
            "1 [5 6 1 8 9]\n",
            "user: 1\n",
            "[5 6 1 8 9] [8, 2, 3]\n",
            "2 [ 8  0  0  5 10]\n",
            "user: 2\n",
            "[ 8  0  0  5 10] [8, 2, 3]\n",
            "\n",
            "[0.9994237971287663, 0.23621543814299698, 0.8723686098443353]\n"
          ]
        }
      ]
    },
    {
      "cell_type": "code",
      "source": [
        "nota_peso = np.zeros((3,5))\n",
        "for nUser in range(3):\n",
        "  for nFilme in range(5):\n",
        "    print('nota_peso[',nUser, '][',nFilme, '] = , unattended[',nFilme, '], * ,matrix[',nUser,'][',nFilme, '], * similarity[',nUser,']')\n",
        "    print('nota_peso[',nUser, '][',nFilme, '] = ', unattended[nFilme], ' * ' ,matrix[nUser][nFilme], ' * ', similarity[nUser])\n",
        "    nota_peso[nUser][nFilme] = unattended[nFilme] * matrix[nUser][nFilme] * similarity[nUser]\n",
        "    print(nota_peso)\n"
      ],
      "metadata": {
        "colab": {
          "base_uri": "https://localhost:8080/"
        },
        "id": "xgsiw2diu98a",
        "outputId": "6277ddf6-04b3-469e-d3be-86062ea79f81"
      },
      "execution_count": null,
      "outputs": [
        {
          "output_type": "stream",
          "name": "stdout",
          "text": [
            "nota_peso[ 0 ][ 0 ] = , unattended[ 0 ], * ,matrix[ 0 ][ 0 ], * similarity[ 0 ]\n",
            "nota_peso[ 0 ][ 0 ] =  0  *  8  *  0.9994237971287663\n",
            "[[0. 0. 0. 0. 0.]\n",
            " [0. 0. 0. 0. 0.]\n",
            " [0. 0. 0. 0. 0.]]\n",
            "nota_peso[ 0 ][ 1 ] = , unattended[ 1 ], * ,matrix[ 0 ][ 1 ], * similarity[ 0 ]\n",
            "nota_peso[ 0 ][ 1 ] =  1  *  0  *  0.9994237971287663\n",
            "[[0. 0. 0. 0. 0.]\n",
            " [0. 0. 0. 0. 0.]\n",
            " [0. 0. 0. 0. 0.]]\n",
            "nota_peso[ 0 ][ 2 ] = , unattended[ 2 ], * ,matrix[ 0 ][ 2 ], * similarity[ 0 ]\n",
            "nota_peso[ 0 ][ 2 ] =  0  *  3  *  0.9994237971287663\n",
            "[[0. 0. 0. 0. 0.]\n",
            " [0. 0. 0. 0. 0.]\n",
            " [0. 0. 0. 0. 0.]]\n",
            "nota_peso[ 0 ][ 3 ] = , unattended[ 3 ], * ,matrix[ 0 ][ 3 ], * similarity[ 0 ]\n",
            "nota_peso[ 0 ][ 3 ] =  0  *  4  *  0.9994237971287663\n",
            "[[0. 0. 0. 0. 0.]\n",
            " [0. 0. 0. 0. 0.]\n",
            " [0. 0. 0. 0. 0.]]\n",
            "nota_peso[ 0 ][ 4 ] = , unattended[ 4 ], * ,matrix[ 0 ][ 4 ], * similarity[ 0 ]\n",
            "nota_peso[ 0 ][ 4 ] =  1  *  6  *  0.9994237971287663\n",
            "[[0.         0.         0.         0.         5.99654278]\n",
            " [0.         0.         0.         0.         0.        ]\n",
            " [0.         0.         0.         0.         0.        ]]\n",
            "nota_peso[ 1 ][ 0 ] = , unattended[ 0 ], * ,matrix[ 1 ][ 0 ], * similarity[ 1 ]\n",
            "nota_peso[ 1 ][ 0 ] =  0  *  5  *  0.23621543814299698\n",
            "[[0.         0.         0.         0.         5.99654278]\n",
            " [0.         0.         0.         0.         0.        ]\n",
            " [0.         0.         0.         0.         0.        ]]\n",
            "nota_peso[ 1 ][ 1 ] = , unattended[ 1 ], * ,matrix[ 1 ][ 1 ], * similarity[ 1 ]\n",
            "nota_peso[ 1 ][ 1 ] =  1  *  6  *  0.23621543814299698\n",
            "[[0.         0.         0.         0.         5.99654278]\n",
            " [0.         1.41729263 0.         0.         0.        ]\n",
            " [0.         0.         0.         0.         0.        ]]\n",
            "nota_peso[ 1 ][ 2 ] = , unattended[ 2 ], * ,matrix[ 1 ][ 2 ], * similarity[ 1 ]\n",
            "nota_peso[ 1 ][ 2 ] =  0  *  1  *  0.23621543814299698\n",
            "[[0.         0.         0.         0.         5.99654278]\n",
            " [0.         1.41729263 0.         0.         0.        ]\n",
            " [0.         0.         0.         0.         0.        ]]\n",
            "nota_peso[ 1 ][ 3 ] = , unattended[ 3 ], * ,matrix[ 1 ][ 3 ], * similarity[ 1 ]\n",
            "nota_peso[ 1 ][ 3 ] =  0  *  8  *  0.23621543814299698\n",
            "[[0.         0.         0.         0.         5.99654278]\n",
            " [0.         1.41729263 0.         0.         0.        ]\n",
            " [0.         0.         0.         0.         0.        ]]\n",
            "nota_peso[ 1 ][ 4 ] = , unattended[ 4 ], * ,matrix[ 1 ][ 4 ], * similarity[ 1 ]\n",
            "nota_peso[ 1 ][ 4 ] =  1  *  9  *  0.23621543814299698\n",
            "[[0.         0.         0.         0.         5.99654278]\n",
            " [0.         1.41729263 0.         0.         2.12593894]\n",
            " [0.         0.         0.         0.         0.        ]]\n",
            "nota_peso[ 2 ][ 0 ] = , unattended[ 0 ], * ,matrix[ 2 ][ 0 ], * similarity[ 2 ]\n",
            "nota_peso[ 2 ][ 0 ] =  0  *  8  *  0.8723686098443353\n",
            "[[0.         0.         0.         0.         5.99654278]\n",
            " [0.         1.41729263 0.         0.         2.12593894]\n",
            " [0.         0.         0.         0.         0.        ]]\n",
            "nota_peso[ 2 ][ 1 ] = , unattended[ 1 ], * ,matrix[ 2 ][ 1 ], * similarity[ 2 ]\n",
            "nota_peso[ 2 ][ 1 ] =  1  *  0  *  0.8723686098443353\n",
            "[[0.         0.         0.         0.         5.99654278]\n",
            " [0.         1.41729263 0.         0.         2.12593894]\n",
            " [0.         0.         0.         0.         0.        ]]\n",
            "nota_peso[ 2 ][ 2 ] = , unattended[ 2 ], * ,matrix[ 2 ][ 2 ], * similarity[ 2 ]\n",
            "nota_peso[ 2 ][ 2 ] =  0  *  0  *  0.8723686098443353\n",
            "[[0.         0.         0.         0.         5.99654278]\n",
            " [0.         1.41729263 0.         0.         2.12593894]\n",
            " [0.         0.         0.         0.         0.        ]]\n",
            "nota_peso[ 2 ][ 3 ] = , unattended[ 3 ], * ,matrix[ 2 ][ 3 ], * similarity[ 2 ]\n",
            "nota_peso[ 2 ][ 3 ] =  0  *  5  *  0.8723686098443353\n",
            "[[0.         0.         0.         0.         5.99654278]\n",
            " [0.         1.41729263 0.         0.         2.12593894]\n",
            " [0.         0.         0.         0.         0.        ]]\n",
            "nota_peso[ 2 ][ 4 ] = , unattended[ 4 ], * ,matrix[ 2 ][ 4 ], * similarity[ 2 ]\n",
            "nota_peso[ 2 ][ 4 ] =  1  *  10  *  0.8723686098443353\n",
            "[[0.         0.         0.         0.         5.99654278]\n",
            " [0.         1.41729263 0.         0.         2.12593894]\n",
            " [0.         0.         0.         0.         8.7236861 ]]\n"
          ]
        }
      ]
    },
    {
      "cell_type": "code",
      "source": [
        "notas_acumuladas = np.sum(nota_peso.T,axis=1)\n",
        "print(notas_acumuladas)\n"
      ],
      "metadata": {
        "colab": {
          "base_uri": "https://localhost:8080/"
        },
        "id": "dMbUCI833wXZ",
        "outputId": "8fec6001-4f68-4426-8ce6-4903b848a946"
      },
      "execution_count": null,
      "outputs": [
        {
          "output_type": "stream",
          "name": "stdout",
          "text": [
            "[ 0.          1.41729263  0.          0.         16.84616782]\n"
          ]
        }
      ]
    },
    {
      "cell_type": "code",
      "source": [
        "temp_peso = nota_peso\n",
        "temp_peso[nota_peso > 0] = 1\n",
        "print(temp_peso)\n",
        "temp_similaridade = np.zeros((3,5))\n",
        "for nUser in range(3):\n",
        "  for nFilme in range(5):\n",
        "    temp_similaridade[nUser][nFilme] = temp_peso[nUser][nFilme] * similarity[nUser]\n",
        "    print(temp_similaridade)\n",
        "    similaridade_acumulada = np.sum(temp_similaridade.T,axis=1)\n",
        "    print(similaridade_acumulada)\n"
      ],
      "metadata": {
        "colab": {
          "base_uri": "https://localhost:8080/"
        },
        "id": "375FBuTx5B9q",
        "outputId": "f04c6aab-4c28-4d3d-900a-c5052c41ad55"
      },
      "execution_count": null,
      "outputs": [
        {
          "output_type": "stream",
          "name": "stdout",
          "text": [
            "[[0. 0. 0. 0. 1.]\n",
            " [0. 1. 0. 0. 1.]\n",
            " [0. 0. 0. 0. 1.]]\n",
            "[[0. 0. 0. 0. 0.]\n",
            " [0. 0. 0. 0. 0.]\n",
            " [0. 0. 0. 0. 0.]]\n",
            "[0. 0. 0. 0. 0.]\n",
            "[[0. 0. 0. 0. 0.]\n",
            " [0. 0. 0. 0. 0.]\n",
            " [0. 0. 0. 0. 0.]]\n",
            "[0. 0. 0. 0. 0.]\n",
            "[[0. 0. 0. 0. 0.]\n",
            " [0. 0. 0. 0. 0.]\n",
            " [0. 0. 0. 0. 0.]]\n",
            "[0. 0. 0. 0. 0.]\n",
            "[[0. 0. 0. 0. 0.]\n",
            " [0. 0. 0. 0. 0.]\n",
            " [0. 0. 0. 0. 0.]]\n",
            "[0. 0. 0. 0. 0.]\n",
            "[[0.        0.        0.        0.        0.9994238]\n",
            " [0.        0.        0.        0.        0.       ]\n",
            " [0.        0.        0.        0.        0.       ]]\n",
            "[0.        0.        0.        0.        0.9994238]\n",
            "[[0.        0.        0.        0.        0.9994238]\n",
            " [0.        0.        0.        0.        0.       ]\n",
            " [0.        0.        0.        0.        0.       ]]\n",
            "[0.        0.        0.        0.        0.9994238]\n",
            "[[0.         0.         0.         0.         0.9994238 ]\n",
            " [0.         0.23621544 0.         0.         0.        ]\n",
            " [0.         0.         0.         0.         0.        ]]\n",
            "[0.         0.23621544 0.         0.         0.9994238 ]\n",
            "[[0.         0.         0.         0.         0.9994238 ]\n",
            " [0.         0.23621544 0.         0.         0.        ]\n",
            " [0.         0.         0.         0.         0.        ]]\n",
            "[0.         0.23621544 0.         0.         0.9994238 ]\n",
            "[[0.         0.         0.         0.         0.9994238 ]\n",
            " [0.         0.23621544 0.         0.         0.        ]\n",
            " [0.         0.         0.         0.         0.        ]]\n",
            "[0.         0.23621544 0.         0.         0.9994238 ]\n",
            "[[0.         0.         0.         0.         0.9994238 ]\n",
            " [0.         0.23621544 0.         0.         0.23621544]\n",
            " [0.         0.         0.         0.         0.        ]]\n",
            "[0.         0.23621544 0.         0.         1.23563924]\n",
            "[[0.         0.         0.         0.         0.9994238 ]\n",
            " [0.         0.23621544 0.         0.         0.23621544]\n",
            " [0.         0.         0.         0.         0.        ]]\n",
            "[0.         0.23621544 0.         0.         1.23563924]\n",
            "[[0.         0.         0.         0.         0.9994238 ]\n",
            " [0.         0.23621544 0.         0.         0.23621544]\n",
            " [0.         0.         0.         0.         0.        ]]\n",
            "[0.         0.23621544 0.         0.         1.23563924]\n",
            "[[0.         0.         0.         0.         0.9994238 ]\n",
            " [0.         0.23621544 0.         0.         0.23621544]\n",
            " [0.         0.         0.         0.         0.        ]]\n",
            "[0.         0.23621544 0.         0.         1.23563924]\n",
            "[[0.         0.         0.         0.         0.9994238 ]\n",
            " [0.         0.23621544 0.         0.         0.23621544]\n",
            " [0.         0.         0.         0.         0.        ]]\n",
            "[0.         0.23621544 0.         0.         1.23563924]\n",
            "[[0.         0.         0.         0.         0.9994238 ]\n",
            " [0.         0.23621544 0.         0.         0.23621544]\n",
            " [0.         0.         0.         0.         0.87236861]]\n",
            "[0.         0.23621544 0.         0.         2.10800785]\n"
          ]
        }
      ]
    },
    {
      "cell_type": "code",
      "source": [
        "nota_final =[0] * 5\n",
        "#agora a normalização para cada filme com nota acumulada, eu normalizo pela soma dos pesos (similaridade)\n",
        "for nFilme in range(5):\n",
        "  if(similaridade_acumulada[nFilme] > 0):\n",
        "    nota_final[nFilme] = notas_acumuladas[nFilme] / similaridade_acumulada[nFilme]\n",
        "  else:\n",
        "    nota_final[nFilme] = 0\n",
        "\n",
        "print(nota_final)\n"
      ],
      "metadata": {
        "colab": {
          "base_uri": "https://localhost:8080/"
        },
        "id": "A7sugc-h5My2",
        "outputId": "8d0a5f68-7c8d-42be-8bfd-7571551ce726"
      },
      "execution_count": null,
      "outputs": [
        {
          "output_type": "stream",
          "name": "stdout",
          "text": [
            "[0, 6.0, 0, 0, 7.991510972567143]\n"
          ]
        }
      ]
    },
    {
      "cell_type": "code",
      "source": [
        "nAssistidos = sum(unattended)\n",
        "notasOrdenadasIndex = sorted(range(len(nota_final)),key=nota_final.__getitem__)[::-1][0:nAssistidos]\n",
        "print(notasOrdenadasIndex)\n",
        "for i in notasOrdenadasIndex:\n",
        "  print(movies_name[i], 'nota: ', nota_final[i])\n"
      ],
      "metadata": {
        "colab": {
          "base_uri": "https://localhost:8080/"
        },
        "id": "y_20Tvko5joC",
        "outputId": "2416ddf4-38f9-4d81-f759-9866c44d90a9"
      },
      "execution_count": null,
      "outputs": [
        {
          "output_type": "stream",
          "name": "stdout",
          "text": [
            "[4, 1]\n",
            "La Casa de Papel nota:  7.991510972567143\n",
            "A Invocação do Mal nota:  6.0\n"
          ]
        }
      ]
    },
    {
      "cell_type": "code",
      "source": [],
      "metadata": {
        "id": "GUvM_Oej5rQW"
      },
      "execution_count": null,
      "outputs": []
    }
  ]
}