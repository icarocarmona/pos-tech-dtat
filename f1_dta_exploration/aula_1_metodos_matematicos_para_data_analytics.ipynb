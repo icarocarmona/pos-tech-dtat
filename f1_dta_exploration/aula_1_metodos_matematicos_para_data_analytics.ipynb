{
  "nbformat": 4,
  "nbformat_minor": 0,
  "metadata": {
    "colab": {
      "provenance": [],
      "authorship_tag": "ABX9TyP+KIH1G93nTCngjaj/tWHr",
      "include_colab_link": true
    },
    "kernelspec": {
      "name": "python3",
      "display_name": "Python 3"
    },
    "language_info": {
      "name": "python"
    }
  },
  "cells": [
    {
      "cell_type": "markdown",
      "metadata": {
        "id": "view-in-github",
        "colab_type": "text"
      },
      "source": [
        "<a href=\"https://colab.research.google.com/github/icarocarmona/pos-tech-dtat/blob/main/f1_dta_exploration/aula_1_metodos_matematicos_para_data_analytics.ipynb\" target=\"_parent\"><img src=\"https://colab.research.google.com/assets/colab-badge.svg\" alt=\"Open In Colab\"/></a>"
      ]
    },
    {
      "cell_type": "code",
      "execution_count": 8,
      "metadata": {
        "id": "0LeHzGVt0pPD"
      },
      "outputs": [],
      "source": [
        "import pandas as pd\n",
        "import numpy as np\n",
        "\n",
        "\n",
        "lista = np.array([1,2,3,4,5])"
      ]
    },
    {
      "cell_type": "code",
      "source": [
        "df = pd.DataFrame({'coluna 1':lista, 'coluna 2': lista})\n",
        "df"
      ],
      "metadata": {
        "colab": {
          "base_uri": "https://localhost:8080/",
          "height": 206
        },
        "id": "ukzTJW6f1QG_",
        "outputId": "686f6818-abdd-401b-d073-8b4155a7994f"
      },
      "execution_count": 9,
      "outputs": [
        {
          "output_type": "execute_result",
          "data": {
            "text/plain": [
              "   coluna 1  coluna 2\n",
              "0         1         1\n",
              "1         2         2\n",
              "2         3         3\n",
              "3         4         4\n",
              "4         5         5"
            ],
            "text/html": [
              "\n",
              "  <div id=\"df-c6e1ac55-14f0-48c9-9d8a-e4d2be313237\" class=\"colab-df-container\">\n",
              "    <div>\n",
              "<style scoped>\n",
              "    .dataframe tbody tr th:only-of-type {\n",
              "        vertical-align: middle;\n",
              "    }\n",
              "\n",
              "    .dataframe tbody tr th {\n",
              "        vertical-align: top;\n",
              "    }\n",
              "\n",
              "    .dataframe thead th {\n",
              "        text-align: right;\n",
              "    }\n",
              "</style>\n",
              "<table border=\"1\" class=\"dataframe\">\n",
              "  <thead>\n",
              "    <tr style=\"text-align: right;\">\n",
              "      <th></th>\n",
              "      <th>coluna 1</th>\n",
              "      <th>coluna 2</th>\n",
              "    </tr>\n",
              "  </thead>\n",
              "  <tbody>\n",
              "    <tr>\n",
              "      <th>0</th>\n",
              "      <td>1</td>\n",
              "      <td>1</td>\n",
              "    </tr>\n",
              "    <tr>\n",
              "      <th>1</th>\n",
              "      <td>2</td>\n",
              "      <td>2</td>\n",
              "    </tr>\n",
              "    <tr>\n",
              "      <th>2</th>\n",
              "      <td>3</td>\n",
              "      <td>3</td>\n",
              "    </tr>\n",
              "    <tr>\n",
              "      <th>3</th>\n",
              "      <td>4</td>\n",
              "      <td>4</td>\n",
              "    </tr>\n",
              "    <tr>\n",
              "      <th>4</th>\n",
              "      <td>5</td>\n",
              "      <td>5</td>\n",
              "    </tr>\n",
              "  </tbody>\n",
              "</table>\n",
              "</div>\n",
              "    <div class=\"colab-df-buttons\">\n",
              "\n",
              "  <div class=\"colab-df-container\">\n",
              "    <button class=\"colab-df-convert\" onclick=\"convertToInteractive('df-c6e1ac55-14f0-48c9-9d8a-e4d2be313237')\"\n",
              "            title=\"Convert this dataframe to an interactive table.\"\n",
              "            style=\"display:none;\">\n",
              "\n",
              "  <svg xmlns=\"http://www.w3.org/2000/svg\" height=\"24px\" viewBox=\"0 -960 960 960\">\n",
              "    <path d=\"M120-120v-720h720v720H120Zm60-500h600v-160H180v160Zm220 220h160v-160H400v160Zm0 220h160v-160H400v160ZM180-400h160v-160H180v160Zm440 0h160v-160H620v160ZM180-180h160v-160H180v160Zm440 0h160v-160H620v160Z\"/>\n",
              "  </svg>\n",
              "    </button>\n",
              "\n",
              "  <style>\n",
              "    .colab-df-container {\n",
              "      display:flex;\n",
              "      gap: 12px;\n",
              "    }\n",
              "\n",
              "    .colab-df-convert {\n",
              "      background-color: #E8F0FE;\n",
              "      border: none;\n",
              "      border-radius: 50%;\n",
              "      cursor: pointer;\n",
              "      display: none;\n",
              "      fill: #1967D2;\n",
              "      height: 32px;\n",
              "      padding: 0 0 0 0;\n",
              "      width: 32px;\n",
              "    }\n",
              "\n",
              "    .colab-df-convert:hover {\n",
              "      background-color: #E2EBFA;\n",
              "      box-shadow: 0px 1px 2px rgba(60, 64, 67, 0.3), 0px 1px 3px 1px rgba(60, 64, 67, 0.15);\n",
              "      fill: #174EA6;\n",
              "    }\n",
              "\n",
              "    .colab-df-buttons div {\n",
              "      margin-bottom: 4px;\n",
              "    }\n",
              "\n",
              "    [theme=dark] .colab-df-convert {\n",
              "      background-color: #3B4455;\n",
              "      fill: #D2E3FC;\n",
              "    }\n",
              "\n",
              "    [theme=dark] .colab-df-convert:hover {\n",
              "      background-color: #434B5C;\n",
              "      box-shadow: 0px 1px 3px 1px rgba(0, 0, 0, 0.15);\n",
              "      filter: drop-shadow(0px 1px 2px rgba(0, 0, 0, 0.3));\n",
              "      fill: #FFFFFF;\n",
              "    }\n",
              "  </style>\n",
              "\n",
              "    <script>\n",
              "      const buttonEl =\n",
              "        document.querySelector('#df-c6e1ac55-14f0-48c9-9d8a-e4d2be313237 button.colab-df-convert');\n",
              "      buttonEl.style.display =\n",
              "        google.colab.kernel.accessAllowed ? 'block' : 'none';\n",
              "\n",
              "      async function convertToInteractive(key) {\n",
              "        const element = document.querySelector('#df-c6e1ac55-14f0-48c9-9d8a-e4d2be313237');\n",
              "        const dataTable =\n",
              "          await google.colab.kernel.invokeFunction('convertToInteractive',\n",
              "                                                    [key], {});\n",
              "        if (!dataTable) return;\n",
              "\n",
              "        const docLinkHtml = 'Like what you see? Visit the ' +\n",
              "          '<a target=\"_blank\" href=https://colab.research.google.com/notebooks/data_table.ipynb>data table notebook</a>'\n",
              "          + ' to learn more about interactive tables.';\n",
              "        element.innerHTML = '';\n",
              "        dataTable['output_type'] = 'display_data';\n",
              "        await google.colab.output.renderOutput(dataTable, element);\n",
              "        const docLink = document.createElement('div');\n",
              "        docLink.innerHTML = docLinkHtml;\n",
              "        element.appendChild(docLink);\n",
              "      }\n",
              "    </script>\n",
              "  </div>\n",
              "\n",
              "\n",
              "<div id=\"df-9faf8fb5-4cf4-47f5-96f2-6c206ab028ad\">\n",
              "  <button class=\"colab-df-quickchart\" onclick=\"quickchart('df-9faf8fb5-4cf4-47f5-96f2-6c206ab028ad')\"\n",
              "            title=\"Suggest charts.\"\n",
              "            style=\"display:none;\">\n",
              "\n",
              "<svg xmlns=\"http://www.w3.org/2000/svg\" height=\"24px\"viewBox=\"0 0 24 24\"\n",
              "     width=\"24px\">\n",
              "    <g>\n",
              "        <path d=\"M19 3H5c-1.1 0-2 .9-2 2v14c0 1.1.9 2 2 2h14c1.1 0 2-.9 2-2V5c0-1.1-.9-2-2-2zM9 17H7v-7h2v7zm4 0h-2V7h2v10zm4 0h-2v-4h2v4z\"/>\n",
              "    </g>\n",
              "</svg>\n",
              "  </button>\n",
              "\n",
              "<style>\n",
              "  .colab-df-quickchart {\n",
              "      --bg-color: #E8F0FE;\n",
              "      --fill-color: #1967D2;\n",
              "      --hover-bg-color: #E2EBFA;\n",
              "      --hover-fill-color: #174EA6;\n",
              "      --disabled-fill-color: #AAA;\n",
              "      --disabled-bg-color: #DDD;\n",
              "  }\n",
              "\n",
              "  [theme=dark] .colab-df-quickchart {\n",
              "      --bg-color: #3B4455;\n",
              "      --fill-color: #D2E3FC;\n",
              "      --hover-bg-color: #434B5C;\n",
              "      --hover-fill-color: #FFFFFF;\n",
              "      --disabled-bg-color: #3B4455;\n",
              "      --disabled-fill-color: #666;\n",
              "  }\n",
              "\n",
              "  .colab-df-quickchart {\n",
              "    background-color: var(--bg-color);\n",
              "    border: none;\n",
              "    border-radius: 50%;\n",
              "    cursor: pointer;\n",
              "    display: none;\n",
              "    fill: var(--fill-color);\n",
              "    height: 32px;\n",
              "    padding: 0;\n",
              "    width: 32px;\n",
              "  }\n",
              "\n",
              "  .colab-df-quickchart:hover {\n",
              "    background-color: var(--hover-bg-color);\n",
              "    box-shadow: 0 1px 2px rgba(60, 64, 67, 0.3), 0 1px 3px 1px rgba(60, 64, 67, 0.15);\n",
              "    fill: var(--button-hover-fill-color);\n",
              "  }\n",
              "\n",
              "  .colab-df-quickchart-complete:disabled,\n",
              "  .colab-df-quickchart-complete:disabled:hover {\n",
              "    background-color: var(--disabled-bg-color);\n",
              "    fill: var(--disabled-fill-color);\n",
              "    box-shadow: none;\n",
              "  }\n",
              "\n",
              "  .colab-df-spinner {\n",
              "    border: 2px solid var(--fill-color);\n",
              "    border-color: transparent;\n",
              "    border-bottom-color: var(--fill-color);\n",
              "    animation:\n",
              "      spin 1s steps(1) infinite;\n",
              "  }\n",
              "\n",
              "  @keyframes spin {\n",
              "    0% {\n",
              "      border-color: transparent;\n",
              "      border-bottom-color: var(--fill-color);\n",
              "      border-left-color: var(--fill-color);\n",
              "    }\n",
              "    20% {\n",
              "      border-color: transparent;\n",
              "      border-left-color: var(--fill-color);\n",
              "      border-top-color: var(--fill-color);\n",
              "    }\n",
              "    30% {\n",
              "      border-color: transparent;\n",
              "      border-left-color: var(--fill-color);\n",
              "      border-top-color: var(--fill-color);\n",
              "      border-right-color: var(--fill-color);\n",
              "    }\n",
              "    40% {\n",
              "      border-color: transparent;\n",
              "      border-right-color: var(--fill-color);\n",
              "      border-top-color: var(--fill-color);\n",
              "    }\n",
              "    60% {\n",
              "      border-color: transparent;\n",
              "      border-right-color: var(--fill-color);\n",
              "    }\n",
              "    80% {\n",
              "      border-color: transparent;\n",
              "      border-right-color: var(--fill-color);\n",
              "      border-bottom-color: var(--fill-color);\n",
              "    }\n",
              "    90% {\n",
              "      border-color: transparent;\n",
              "      border-bottom-color: var(--fill-color);\n",
              "    }\n",
              "  }\n",
              "</style>\n",
              "\n",
              "  <script>\n",
              "    async function quickchart(key) {\n",
              "      const quickchartButtonEl =\n",
              "        document.querySelector('#' + key + ' button');\n",
              "      quickchartButtonEl.disabled = true;  // To prevent multiple clicks.\n",
              "      quickchartButtonEl.classList.add('colab-df-spinner');\n",
              "      try {\n",
              "        const charts = await google.colab.kernel.invokeFunction(\n",
              "            'suggestCharts', [key], {});\n",
              "      } catch (error) {\n",
              "        console.error('Error during call to suggestCharts:', error);\n",
              "      }\n",
              "      quickchartButtonEl.classList.remove('colab-df-spinner');\n",
              "      quickchartButtonEl.classList.add('colab-df-quickchart-complete');\n",
              "    }\n",
              "    (() => {\n",
              "      let quickchartButtonEl =\n",
              "        document.querySelector('#df-9faf8fb5-4cf4-47f5-96f2-6c206ab028ad button');\n",
              "      quickchartButtonEl.style.display =\n",
              "        google.colab.kernel.accessAllowed ? 'block' : 'none';\n",
              "    })();\n",
              "  </script>\n",
              "</div>\n",
              "    </div>\n",
              "  </div>\n"
            ]
          },
          "metadata": {},
          "execution_count": 9
        }
      ]
    },
    {
      "cell_type": "code",
      "source": [
        "type(df)"
      ],
      "metadata": {
        "colab": {
          "base_uri": "https://localhost:8080/"
        },
        "id": "_vD_bIYS1WbS",
        "outputId": "9bcdacf6-2cb8-4c2c-e6a2-d9b0f877dcf7"
      },
      "execution_count": 10,
      "outputs": [
        {
          "output_type": "execute_result",
          "data": {
            "text/plain": [
              "pandas.core.frame.DataFrame"
            ]
          },
          "metadata": {},
          "execution_count": 10
        }
      ]
    },
    {
      "cell_type": "code",
      "source": [
        "type(df['coluna 1'])"
      ],
      "metadata": {
        "id": "Yi51-xHG4NUf",
        "outputId": "f97c92c0-0926-4bbc-e05d-ee3db0d3f8f1",
        "colab": {
          "base_uri": "https://localhost:8080/"
        }
      },
      "execution_count": 11,
      "outputs": [
        {
          "output_type": "execute_result",
          "data": {
            "text/plain": [
              "pandas.core.series.Series"
            ]
          },
          "metadata": {},
          "execution_count": 11
        }
      ]
    },
    {
      "cell_type": "code",
      "source": [
        "x = 3\n",
        "\n",
        "y=2\n",
        "\n",
        "print(2/3)\n"
      ],
      "metadata": {
        "id": "PEddZc1u4Rcs",
        "colab": {
          "base_uri": "https://localhost:8080/"
        },
        "outputId": "88c6c275-0f1c-4e9a-a168-befc9d9e372a"
      },
      "execution_count": 12,
      "outputs": [
        {
          "output_type": "stream",
          "name": "stdout",
          "text": [
            "0.6666666666666666\n"
          ]
        }
      ]
    },
    {
      "cell_type": "code",
      "source": [
        "x2 = np.array([1,2,3])\n",
        "x2"
      ],
      "metadata": {
        "colab": {
          "base_uri": "https://localhost:8080/"
        },
        "id": "xkf2ceD42E_K",
        "outputId": "b89e088c-beae-477c-9c82-2eae13c2192d"
      },
      "execution_count": 13,
      "outputs": [
        {
          "output_type": "execute_result",
          "data": {
            "text/plain": [
              "array([1, 2, 3])"
            ]
          },
          "metadata": {},
          "execution_count": 13
        }
      ]
    },
    {
      "cell_type": "code",
      "source": [
        "x3 = np.array([ [1], [2], [3]])\n",
        "x3"
      ],
      "metadata": {
        "colab": {
          "base_uri": "https://localhost:8080/"
        },
        "id": "ss74O0Q11wsO",
        "outputId": "0d414def-0d6e-4884-b594-c67e0dee68ce"
      },
      "execution_count": 14,
      "outputs": [
        {
          "output_type": "execute_result",
          "data": {
            "text/plain": [
              "array([[1],\n",
              "       [2],\n",
              "       [3]])"
            ]
          },
          "metadata": {},
          "execution_count": 14
        }
      ]
    },
    {
      "cell_type": "code",
      "source": [
        "x2 + x3\n"
      ],
      "metadata": {
        "colab": {
          "base_uri": "https://localhost:8080/"
        },
        "id": "VKUd16Ai0Ubi",
        "outputId": "a0a64d3c-d6cc-4822-e645-6ae2341186fb"
      },
      "execution_count": 15,
      "outputs": [
        {
          "output_type": "execute_result",
          "data": {
            "text/plain": [
              "array([[2, 3, 4],\n",
              "       [3, 4, 5],\n",
              "       [4, 5, 6]])"
            ]
          },
          "metadata": {},
          "execution_count": 15
        }
      ]
    },
    {
      "cell_type": "code",
      "source": [
        "x4 = np.array([[1,2,3],[1,2,3],[1,2,3]])\n",
        "x4"
      ],
      "metadata": {
        "colab": {
          "base_uri": "https://localhost:8080/"
        },
        "id": "ObIQy8qH6iSQ",
        "outputId": "993a5f47-075d-4080-912c-039008acab01"
      },
      "execution_count": 16,
      "outputs": [
        {
          "output_type": "execute_result",
          "data": {
            "text/plain": [
              "array([[1, 2, 3],\n",
              "       [1, 2, 3],\n",
              "       [1, 2, 3]])"
            ]
          },
          "metadata": {},
          "execution_count": 16
        }
      ]
    },
    {
      "cell_type": "code",
      "source": [
        "# multiplicar\n",
        "\n",
        "# arr1 (x,y) / arr2 (z,w) ---> x = z / arr3 (x,w)\n",
        "\n",
        "# A.B != B.A\n",
        "np.dot(x4, x3)"
      ],
      "metadata": {
        "id": "RuETeF5b2Nyy",
        "colab": {
          "base_uri": "https://localhost:8080/"
        },
        "outputId": "f1706e69-a0c9-46f8-b1a2-42a53dc5fdd9"
      },
      "execution_count": 17,
      "outputs": [
        {
          "output_type": "execute_result",
          "data": {
            "text/plain": [
              "array([[14],\n",
              "       [14],\n",
              "       [14]])"
            ]
          },
          "metadata": {},
          "execution_count": 17
        }
      ]
    },
    {
      "cell_type": "code",
      "source": [
        "x4@x3"
      ],
      "metadata": {
        "colab": {
          "base_uri": "https://localhost:8080/"
        },
        "id": "_x0yP-zO62zl",
        "outputId": "49bf9597-9dbe-4da2-9c9d-f3d5a48e94a4"
      },
      "execution_count": 18,
      "outputs": [
        {
          "output_type": "execute_result",
          "data": {
            "text/plain": [
              "array([[14],\n",
              "       [14],\n",
              "       [14]])"
            ]
          },
          "metadata": {},
          "execution_count": 18
        }
      ]
    },
    {
      "cell_type": "code",
      "source": [
        "# divisão\n",
        "# 2 .x = 4\n",
        "# A.X = Y --> equação fundamental da álgebra linear\n",
        "x4/x3\n",
        "\n",
        "# para os escalares, o zero na soma e na subtração é que chamamos de elemento neutro. Porém\n",
        "# o 1 na multiplicação e na divisão é o elemento neutro\n",
        "\n"
      ],
      "metadata": {
        "colab": {
          "base_uri": "https://localhost:8080/"
        },
        "id": "bPyZBeDw7R6N",
        "outputId": "1586b766-4022-4eb7-a399-e48fbe6ce57e"
      },
      "execution_count": 19,
      "outputs": [
        {
          "output_type": "execute_result",
          "data": {
            "text/plain": [
              "array([[1.        , 2.        , 3.        ],\n",
              "       [0.5       , 1.        , 1.5       ],\n",
              "       [0.33333333, 0.66666667, 1.        ]])"
            ]
          },
          "metadata": {},
          "execution_count": 19
        }
      ]
    },
    {
      "cell_type": "code",
      "source": [
        "# a + b = a\n",
        "#\n",
        "\n",
        "zeros = np.zeros((3,3))\n",
        "\n",
        "zeros"
      ],
      "metadata": {
        "id": "XafnFj6S_oqG",
        "colab": {
          "base_uri": "https://localhost:8080/"
        },
        "outputId": "856b2bad-c7e3-4733-ddc3-68144716fe7a"
      },
      "execution_count": 20,
      "outputs": [
        {
          "output_type": "execute_result",
          "data": {
            "text/plain": [
              "array([[0., 0., 0.],\n",
              "       [0., 0., 0.],\n",
              "       [0., 0., 0.]])"
            ]
          },
          "metadata": {},
          "execution_count": 20
        }
      ]
    },
    {
      "cell_type": "code",
      "source": [
        "ones = np.ones((3,3))\n",
        "ones"
      ],
      "metadata": {
        "colab": {
          "base_uri": "https://localhost:8080/"
        },
        "id": "GgANxip6CLHT",
        "outputId": "4c27486f-54c5-49f4-9052-9d4d06934ce4"
      },
      "execution_count": 21,
      "outputs": [
        {
          "output_type": "execute_result",
          "data": {
            "text/plain": [
              "array([[1., 1., 1.],\n",
              "       [1., 1., 1.],\n",
              "       [1., 1., 1.]])"
            ]
          },
          "metadata": {},
          "execution_count": 21
        }
      ]
    },
    {
      "cell_type": "code",
      "source": [
        "x4"
      ],
      "metadata": {
        "colab": {
          "base_uri": "https://localhost:8080/"
        },
        "id": "-k_guqTDE8Q1",
        "outputId": "070a275a-6793-489f-c21d-c884cdcd6c67"
      },
      "execution_count": 22,
      "outputs": [
        {
          "output_type": "execute_result",
          "data": {
            "text/plain": [
              "array([[1, 2, 3],\n",
              "       [1, 2, 3],\n",
              "       [1, 2, 3]])"
            ]
          },
          "metadata": {},
          "execution_count": 22
        }
      ]
    },
    {
      "cell_type": "markdown",
      "source": [
        "$$A = \\pmatrix{a_{00} & a_{01} & a_{02}\n",
        "\\\\ a_{10} & a_{11} & a_{12}\n",
        "\\\\ a_{20} & a_{21} & a_{22}}\n",
        "$$"
      ],
      "metadata": {
        "id": "kW1xvKmLDeWU"
      }
    },
    {
      "cell_type": "code",
      "source": [
        "# matriz identidade\n",
        "\n",
        "id = np.eye(3)\n",
        "id"
      ],
      "metadata": {
        "colab": {
          "base_uri": "https://localhost:8080/"
        },
        "id": "H3uv-wV7CwY3",
        "outputId": "3616f19c-51b5-4c67-e668-7cfb276c2b34"
      },
      "execution_count": 23,
      "outputs": [
        {
          "output_type": "execute_result",
          "data": {
            "text/plain": [
              "array([[1., 0., 0.],\n",
              "       [0., 1., 0.],\n",
              "       [0., 0., 1.]])"
            ]
          },
          "metadata": {},
          "execution_count": 23
        }
      ]
    },
    {
      "cell_type": "code",
      "source": [
        "x4 * id"
      ],
      "metadata": {
        "colab": {
          "base_uri": "https://localhost:8080/"
        },
        "id": "NrXX9YMoFUTX",
        "outputId": "8a8eb03a-fc52-4db7-c278-8c5a2dcaf11b"
      },
      "execution_count": 24,
      "outputs": [
        {
          "output_type": "execute_result",
          "data": {
            "text/plain": [
              "array([[1., 0., 0.],\n",
              "       [0., 2., 0.],\n",
              "       [0., 0., 3.]])"
            ]
          },
          "metadata": {},
          "execution_count": 24
        }
      ]
    },
    {
      "cell_type": "code",
      "source": [
        "#inverso\n",
        "# 2 * 1/2 = 1\n",
        "3 * 1/3"
      ],
      "metadata": {
        "colab": {
          "base_uri": "https://localhost:8080/"
        },
        "id": "XauIZhwjFYEk",
        "outputId": "b2ae3cdc-682a-4b5b-c0ce-476c1e1486af"
      },
      "execution_count": 25,
      "outputs": [
        {
          "output_type": "execute_result",
          "data": {
            "text/plain": [
              "1.0"
            ]
          },
          "metadata": {},
          "execution_count": 25
        }
      ]
    },
    {
      "cell_type": "markdown",
      "source": [
        "$$x . x^{-1} = 1$$\n",
        "\n",
        "---\n",
        "matriz inversa\n",
        "$$A . A^{1} = I$$\n",
        "\n",
        "---\n",
        "\n",
        "Eq. fundamental da álgebra\n",
        "\n",
        "$$A . X = Y$$\n",
        "\n",
        "$$A.A^{-1}.X = A^{-1}.Y\n",
        "$$\n",
        "\n",
        "$$X = A^{-1}.Y$$\n",
        "\n",
        "$$X = (A^{T}A)^{-1}A^{T}Y$$"
      ],
      "metadata": {
        "id": "8aii04eyI65G"
      }
    },
    {
      "cell_type": "code",
      "source": [
        "import matplotlib.pyplot as plt"
      ],
      "metadata": {
        "id": "gjqBqncDg6PR"
      },
      "execution_count": 26,
      "outputs": []
    },
    {
      "cell_type": "code",
      "source": [
        "x1, y1 = -1,0\n",
        "x2,y2 = 0,1\n",
        "x3,y3 = 1,2\n",
        "x4,y4 = 2,1\n",
        "\n",
        "x = [x1,x2,x3,x4]\n",
        "y = [y1, y2, y3, y4]\n",
        "\n"
      ],
      "metadata": {
        "id": "b__sQyl2I4fy"
      },
      "execution_count": 27,
      "outputs": []
    },
    {
      "cell_type": "code",
      "source": [
        "plt.figure(figsize=(10,5))\n",
        "\n",
        "plt.scatter(x1,y1, color='green', label = 'Pares orgenados (x,y)')\n",
        "plt.scatter(x2,y2, color='green')\n",
        "plt.scatter(x3,y3, color='green')\n",
        "plt.scatter(x4,y4, color='green')\n",
        "\n",
        "\n",
        "plt.plot(x,y, label = 'Grafico que liga os pontos')\n",
        "plt.grid(True)\n",
        "plt.box(False)\n",
        "plt.legend()\n",
        "plt.title(\"Interpolação da reta sobre todos os pontos\")\n",
        "\n",
        "\n"
      ],
      "metadata": {
        "colab": {
          "base_uri": "https://localhost:8080/",
          "height": 485
        },
        "id": "EeALcmoOg6rJ",
        "outputId": "aad66dc0-cebe-485d-87a0-bb4accf90338"
      },
      "execution_count": 6,
      "outputs": [
        {
          "output_type": "execute_result",
          "data": {
            "text/plain": [
              "Text(0.5, 1.0, 'Interpolação da reta sobre todos os pontos')"
            ]
          },
          "metadata": {},
          "execution_count": 6
        },
        {
          "output_type": "display_data",
          "data": {
            "text/plain": [
              "<Figure size 1000x500 with 1 Axes>"
            ],
            "image/png": "[encoded data removed]"
          },
          "metadata": {}
        }
      ]
    },
    {
      "cell_type": "code",
      "source": [
        "# y = mx + n\n",
        "# 0 = -1*m + 1*n\n",
        "A = np.array([[-1,1], [0,1],[1,1],[2,1]])\n",
        "y = np.array([[y1],[y2],[y3],[y4]])"
      ],
      "metadata": {
        "id": "M3UgYVqGhum9"
      },
      "execution_count": 28,
      "outputs": []
    },
    {
      "cell_type": "code",
      "source": [
        "A"
      ],
      "metadata": {
        "colab": {
          "base_uri": "https://localhost:8080/"
        },
        "id": "NzGLzLJejI9p",
        "outputId": "d6cc90c8-a897-4807-f5df-306cf381c417"
      },
      "execution_count": 29,
      "outputs": [
        {
          "output_type": "execute_result",
          "data": {
            "text/plain": [
              "array([[-1,  1],\n",
              "       [ 0,  1],\n",
              "       [ 1,  1],\n",
              "       [ 2,  1]])"
            ]
          },
          "metadata": {},
          "execution_count": 29
        }
      ]
    },
    {
      "cell_type": "code",
      "source": [
        "y"
      ],
      "metadata": {
        "colab": {
          "base_uri": "https://localhost:8080/"
        },
        "id": "K8WCfuGmjQsp",
        "outputId": "b77d17bd-d282-4e14-ea85-aaab032e0f94"
      },
      "execution_count": 30,
      "outputs": [
        {
          "output_type": "execute_result",
          "data": {
            "text/plain": [
              "array([[0],\n",
              "       [1],\n",
              "       [2],\n",
              "       [1]])"
            ]
          },
          "metadata": {},
          "execution_count": 30
        }
      ]
    },
    {
      "cell_type": "code",
      "source": [
        "(m,n) = np.dot(np.dot(np.linalg.pinv(np.dot(A.T, A)),A.T),y)\n",
        "print(m,n)"
      ],
      "metadata": {
        "colab": {
          "base_uri": "https://localhost:8080/"
        },
        "id": "-Z6LNNjbjRZw",
        "outputId": "9c6fc60a-4e93-4caa-c42d-b447042a7582"
      },
      "execution_count": 32,
      "outputs": [
        {
          "output_type": "stream",
          "name": "stdout",
          "text": [
            "[0.4] [0.8]\n"
          ]
        }
      ]
    },
    {
      "cell_type": "code",
      "source": [
        "plt.figure(figsize=(10,5))\n",
        "\n",
        "plt.scatter(x1,y1, color='green', label = 'Pares orgenados (x,y)')\n",
        "plt.scatter(x2,y2, color='green')\n",
        "plt.scatter(x3,y3, color='green')\n",
        "plt.scatter(x4,y4, color='green')\n",
        "\n",
        "\n",
        "v_x = np.linspace(-1,2)\n",
        "\n",
        "plt.plot(x,y, label = 'Grafico que liga os pontos')\n",
        "plt.plot(v_x, m * v_x + n, label= 'Reta otimizada pelo MMQ')\n",
        "plt.grid(True)\n",
        "plt.box(False)\n",
        "plt.legend()\n",
        "plt.title(\"Interpolação da reta sobre todos os pontos\")"
      ],
      "metadata": {
        "colab": {
          "base_uri": "https://localhost:8080/",
          "height": 485
        },
        "id": "CKtzDP9Zj2Cy",
        "outputId": "6ab218a3-d4d7-4c0a-d6ac-7d116213f611"
      },
      "execution_count": 34,
      "outputs": [
        {
          "output_type": "execute_result",
          "data": {
            "text/plain": [
              "Text(0.5, 1.0, 'Interpolação da reta sobre todos os pontos')"
            ]
          },
          "metadata": {},
          "execution_count": 34
        },
        {
          "output_type": "display_data",
          "data": {
            "text/plain": [
              "<Figure size 1000x500 with 1 Axes>"
            ],
            "image/png": "[encoded data removed]"
          },
          "metadata": {}
        }
      ]
    },
    {
      "cell_type": "code",
      "source": [
        "v_x = np.linspace(-1,2)\n",
        "v_x"
      ],
      "metadata": {
        "colab": {
          "base_uri": "https://localhost:8080/"
        },
        "id": "1yv-SUpFkPC7",
        "outputId": "00f05a97-4325-430c-cd87-3f3e0ff8d772"
      },
      "execution_count": 33,
      "outputs": [
        {
          "output_type": "execute_result",
          "data": {
            "text/plain": [
              "array([-1.        , -0.93877551, -0.87755102, -0.81632653, -0.75510204,\n",
              "       -0.69387755, -0.63265306, -0.57142857, -0.51020408, -0.44897959,\n",
              "       -0.3877551 , -0.32653061, -0.26530612, -0.20408163, -0.14285714,\n",
              "       -0.08163265, -0.02040816,  0.04081633,  0.10204082,  0.16326531,\n",
              "        0.2244898 ,  0.28571429,  0.34693878,  0.40816327,  0.46938776,\n",
              "        0.53061224,  0.59183673,  0.65306122,  0.71428571,  0.7755102 ,\n",
              "        0.83673469,  0.89795918,  0.95918367,  1.02040816,  1.08163265,\n",
              "        1.14285714,  1.20408163,  1.26530612,  1.32653061,  1.3877551 ,\n",
              "        1.44897959,  1.51020408,  1.57142857,  1.63265306,  1.69387755,\n",
              "        1.75510204,  1.81632653,  1.87755102,  1.93877551,  2.        ])"
            ]
          },
          "metadata": {},
          "execution_count": 33
        }
      ]
    },
    {
      "cell_type": "code",
      "source": [],
      "metadata": {
        "id": "CKsjB3OXkQ0u"
      },
      "execution_count": null,
      "outputs": []
    }
  ]
}